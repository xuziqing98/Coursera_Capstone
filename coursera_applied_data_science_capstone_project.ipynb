{
 "cells": [
  {
   "cell_type": "markdown",
   "metadata": {},
   "source": [
    "# Coursera Applied Data Science Capstone Project\n",
    "\n",
    "### Project Title: Where to start up a business in Guangzhou?\n",
    "\n",
    "#### Author: Ziqing Xu\n",
    "\n",
    "#### Date: Oct 29"
   ]
  },
  {
   "cell_type": "markdown",
   "metadata": {},
   "source": [
    "**Project Description:** The goal of the project is to segment and cluster the neighbourhoods by exploring and comparing the neighbourhoods in Guangzhou. By analyzing the clusters, we can figure out the best-recommended location to start a specific type of business in Guangzhou."
   ]
  },
  {
   "cell_type": "markdown",
   "metadata": {},
   "source": [
    "Before we get the data and start exploring it, let's download all the dependencies that we will need."
   ]
  },
  {
   "cell_type": "code",
   "execution_count": 82,
   "metadata": {},
   "outputs": [
    {
     "name": "stdout",
     "output_type": "stream",
     "text": [
      "Libraries imported.\n"
     ]
    }
   ],
   "source": [
    "# library to handle data in a vectorized manner\n",
    "import numpy as np \n",
    "# library for data analsysis\n",
    "import pandas as pd \n",
    "#pd.set_option('display.max_columns', None)\n",
    "#pd.set_option('display.max_rows', None)\n",
    "# library to handle JSON files\n",
    "import json \n",
    "# convert an address into latitude and longitude values\n",
    "from geopy.geocoders import Nominatim \n",
    "#  library to handle requests\n",
    "import requests \n",
    "# tranform JSON file into a pandas dataframe\n",
    "from pandas.io.json import json_normalize\n",
    "# Matplotlib and associated plotting modules\n",
    "import matplotlib.cm as cm\n",
    "import matplotlib.colors as colors\n",
    "# import k-means from clustering stage\n",
    "from sklearn.cluster import KMeans\n",
    "# map rendering library\n",
    "import folium\n",
    "# library for data scrapping\n",
    "from bs4 import BeautifulSoup\n",
    "# csv library\n",
    "import csv\n",
    "\n",
    "print('Libraries imported.')"
   ]
  },
  {
   "cell_type": "markdown",
   "metadata": {},
   "source": [
    "## 1. Download and Pre-process Dataset"
   ]
  },
  {
   "cell_type": "markdown",
   "metadata": {},
   "source": [
    "### 1.1 Get the dataset by web scraping"
   ]
  },
  {
   "cell_type": "code",
   "execution_count": 83,
   "metadata": {},
   "outputs": [],
   "source": [
    "# make a request by get method, returns an json file\n",
    "res = requests.get('https://en.wikipedia.org/wiki/List_of_township-level_divisions_of_Guangdong')\n",
    "html = res.text\n",
    "soup = BeautifulSoup(html,'html.parser')"
   ]
  },
  {
   "cell_type": "code",
   "execution_count": 84,
   "metadata": {},
   "outputs": [],
   "source": [
    "Guangzhou_Borough = soup.find_all(class_='mw-headline')[1:13]\n",
    "for i, d in enumerate(Guangzhou_Borough):\n",
    "    Guangzhou_Borough[i] = d.text.split()[0]\n",
    "number_of_Borough = len(Guangzhou_Borough)"
   ]
  },
  {
   "cell_type": "code",
   "execution_count": 85,
   "metadata": {},
   "outputs": [],
   "source": [
    "raw_Neighborhoods = soup.find_all('ul')[20:37] # Baiyun to Zengcheng\n",
    "i = 0\n",
    "blocks_for_borough = [2,1,1,1,1,1,2,2,1,1,2,2]\n",
    "Neighborhoods = [[]*number_of_Borough]\n",
    "for j in range(number_of_Borough):\n",
    "    neigh = raw_Neighborhoods[i:i+blocks_for_borough[j]]\n",
    "    i+=blocks_for_borough[j] # update i\n",
    "    Neighborhoods.append([])\n",
    "    for n in neigh:\n",
    "        for m in n.text.split(','):\n",
    "            Neighborhoods[j] += [m.split()[0]]\n",
    "    #print(Guangzhou_Borough[j],Neighborhoods[j]) #uncomment it for testing\n",
    "\n",
    "# Xinhua should be added in Huadu\n",
    "Neighborhoods[Guangzhou_Borough.index('Huadu')] += ['Xinhua']\n",
    "# Jiulong should be added in Luogang\n",
    "Neighborhoods[Guangzhou_Borough.index('Luogang')] += ['Jiulong']\n",
    "\n",
    "#uncomment the following two lines for checking\n",
    "#for b, n in zip(Guangzhou_Borough,Neighborhoods):\n",
    "#    print(b,n) "
   ]
  },
  {
   "cell_type": "markdown",
   "metadata": {},
   "source": [
    "### 1.2 Write the data scrapped from web into a csv file."
   ]
  },
  {
   "cell_type": "code",
   "execution_count": 86,
   "metadata": {},
   "outputs": [],
   "source": [
    "with open('Guangzhou_Neighborhood.csv','w') as csvfile:\n",
    "    csvwriter = csv.writer(csvfile, delimiter=',', quotechar='\"', quoting=csv.QUOTE_MINIMAL)\n",
    "    csvwriter.writerow(['City','Borough','Neighbourhood'])\n",
    "    for i, b in enumerate(Guangzhou_Borough):\n",
    "        for n in Neighborhoods[i]:\n",
    "            csvwriter.writerow(['Guangzhou',b,n])"
   ]
  },
  {
   "cell_type": "markdown",
   "metadata": {},
   "source": [
    "### 1.3 Transform the csv data into pandas dataframe"
   ]
  },
  {
   "cell_type": "code",
   "execution_count": 88,
   "metadata": {},
   "outputs": [
    {
     "data": {
      "text/html": [
       "<div>\n",
       "<style scoped>\n",
       "    .dataframe tbody tr th:only-of-type {\n",
       "        vertical-align: middle;\n",
       "    }\n",
       "\n",
       "    .dataframe tbody tr th {\n",
       "        vertical-align: top;\n",
       "    }\n",
       "\n",
       "    .dataframe thead th {\n",
       "        text-align: right;\n",
       "    }\n",
       "</style>\n",
       "<table border=\"1\" class=\"dataframe\">\n",
       "  <thead>\n",
       "    <tr style=\"text-align: right;\">\n",
       "      <th></th>\n",
       "      <th>City</th>\n",
       "      <th>Borough</th>\n",
       "      <th>Neighbourhood</th>\n",
       "    </tr>\n",
       "  </thead>\n",
       "  <tbody>\n",
       "    <tr>\n",
       "      <td>0</td>\n",
       "      <td>Guangzhou</td>\n",
       "      <td>Baiyun</td>\n",
       "      <td>Jingtai</td>\n",
       "    </tr>\n",
       "    <tr>\n",
       "      <td>1</td>\n",
       "      <td>Guangzhou</td>\n",
       "      <td>Baiyun</td>\n",
       "      <td>Songzhou</td>\n",
       "    </tr>\n",
       "    <tr>\n",
       "      <td>2</td>\n",
       "      <td>Guangzhou</td>\n",
       "      <td>Baiyun</td>\n",
       "      <td>Tongde</td>\n",
       "    </tr>\n",
       "    <tr>\n",
       "      <td>3</td>\n",
       "      <td>Guangzhou</td>\n",
       "      <td>Baiyun</td>\n",
       "      <td>Huangshi</td>\n",
       "    </tr>\n",
       "    <tr>\n",
       "      <td>4</td>\n",
       "      <td>Guangzhou</td>\n",
       "      <td>Baiyun</td>\n",
       "      <td>Tangjing</td>\n",
       "    </tr>\n",
       "    <tr>\n",
       "      <td>5</td>\n",
       "      <td>Guangzhou</td>\n",
       "      <td>Baiyun</td>\n",
       "      <td>Xinshi</td>\n",
       "    </tr>\n",
       "    <tr>\n",
       "      <td>6</td>\n",
       "      <td>Guangzhou</td>\n",
       "      <td>Baiyun</td>\n",
       "      <td>Sanyuanli</td>\n",
       "    </tr>\n",
       "    <tr>\n",
       "      <td>7</td>\n",
       "      <td>Guangzhou</td>\n",
       "      <td>Baiyun</td>\n",
       "      <td>Tonghe</td>\n",
       "    </tr>\n",
       "    <tr>\n",
       "      <td>8</td>\n",
       "      <td>Guangzhou</td>\n",
       "      <td>Baiyun</td>\n",
       "      <td>Jingxi</td>\n",
       "    </tr>\n",
       "    <tr>\n",
       "      <td>9</td>\n",
       "      <td>Guangzhou</td>\n",
       "      <td>Baiyun</td>\n",
       "      <td>Yongping</td>\n",
       "    </tr>\n",
       "  </tbody>\n",
       "</table>\n",
       "</div>"
      ],
      "text/plain": [
       "        City Borough Neighbourhood\n",
       "0  Guangzhou  Baiyun       Jingtai\n",
       "1  Guangzhou  Baiyun      Songzhou\n",
       "2  Guangzhou  Baiyun        Tongde\n",
       "3  Guangzhou  Baiyun      Huangshi\n",
       "4  Guangzhou  Baiyun      Tangjing\n",
       "5  Guangzhou  Baiyun        Xinshi\n",
       "6  Guangzhou  Baiyun     Sanyuanli\n",
       "7  Guangzhou  Baiyun        Tonghe\n",
       "8  Guangzhou  Baiyun        Jingxi\n",
       "9  Guangzhou  Baiyun      Yongping"
      ]
     },
     "execution_count": 88,
     "metadata": {},
     "output_type": "execute_result"
    }
   ],
   "source": [
    "Guangzhou_df = pd.read_csv('Guangzhou_Neighborhood.csv')\n",
    "Guangzhou_df.head(10)"
   ]
  },
  {
   "cell_type": "markdown",
   "metadata": {},
   "source": [
    "### 1.4 Use geopy library to get the geospatial data of Guangzhou"
   ]
  },
  {
   "cell_type": "code",
   "execution_count": 92,
   "metadata": {},
   "outputs": [
    {
     "name": "stdout",
     "output_type": "stream",
     "text": [
      "The geospatial data of Songzhou in Baiyun is not available!\n",
      "The geospatial data of Nanhuaxi in Haizhu is not available!\n",
      "The geospatial data of Longfeng in Haizhu is not available!\n",
      "The geospatial data of Fengyang in Haizhu is not available!\n",
      "The geospatial data of Jiangnanzhong in Haizhu is not available!\n",
      "The geospatial data of Zhangzhou in Huangpu is not available!\n",
      "The geospatial data of Suidong in Huangpu is not available!\n",
      "The geospatial data of Lilian in Huangpu is not available!\n",
      "The geospatial data of Jinhua in Liwan is not available!\n",
      "The geospatial data of Changhua in Liwan is not available!\n",
      "The geospatial data of Hailong in Liwan is not available!\n",
      "The geospatial data of Xiagang in Luogang is not available!\n",
      "The geospatial data of Dalong in Panyu is not available!\n",
      "The geospatial data of Shilou in Panyu is not available!\n",
      "The geospatial data of Lanhe in Panyu is not available!\n",
      "The geospatial data of Hongqiao in Yuexiu is not available!\n",
      "The geospatial data of Dadong in Yuexiu is not available!\n",
      "The geospatial data of Jiangbu in Conghua is not available!\n",
      "The geospatial data of Xiaolou in Zengcheng is not available!\n"
     ]
    },
    {
     "data": {
      "text/html": [
       "<div>\n",
       "<style scoped>\n",
       "    .dataframe tbody tr th:only-of-type {\n",
       "        vertical-align: middle;\n",
       "    }\n",
       "\n",
       "    .dataframe tbody tr th {\n",
       "        vertical-align: top;\n",
       "    }\n",
       "\n",
       "    .dataframe thead th {\n",
       "        text-align: right;\n",
       "    }\n",
       "</style>\n",
       "<table border=\"1\" class=\"dataframe\">\n",
       "  <thead>\n",
       "    <tr style=\"text-align: right;\">\n",
       "      <th></th>\n",
       "      <th>City</th>\n",
       "      <th>Borough</th>\n",
       "      <th>Neighbourhood</th>\n",
       "      <th>Latitude</th>\n",
       "      <th>Longitude</th>\n",
       "    </tr>\n",
       "  </thead>\n",
       "  <tbody>\n",
       "    <tr>\n",
       "      <td>0</td>\n",
       "      <td>Guangzhou</td>\n",
       "      <td>Baiyun</td>\n",
       "      <td>Jingtai</td>\n",
       "      <td>23.171167</td>\n",
       "      <td>113.260877</td>\n",
       "    </tr>\n",
       "    <tr>\n",
       "      <td>1</td>\n",
       "      <td>Guangzhou</td>\n",
       "      <td>Baiyun</td>\n",
       "      <td>Tongde</td>\n",
       "      <td>23.166263</td>\n",
       "      <td>113.229654</td>\n",
       "    </tr>\n",
       "    <tr>\n",
       "      <td>2</td>\n",
       "      <td>Guangzhou</td>\n",
       "      <td>Baiyun</td>\n",
       "      <td>Huangshi</td>\n",
       "      <td>23.205192</td>\n",
       "      <td>113.260667</td>\n",
       "    </tr>\n",
       "    <tr>\n",
       "      <td>3</td>\n",
       "      <td>Guangzhou</td>\n",
       "      <td>Baiyun</td>\n",
       "      <td>Tangjing</td>\n",
       "      <td>23.175695</td>\n",
       "      <td>113.248646</td>\n",
       "    </tr>\n",
       "    <tr>\n",
       "      <td>4</td>\n",
       "      <td>Guangzhou</td>\n",
       "      <td>Baiyun</td>\n",
       "      <td>Xinshi</td>\n",
       "      <td>23.187983</td>\n",
       "      <td>113.255349</td>\n",
       "    </tr>\n",
       "    <tr>\n",
       "      <td>5</td>\n",
       "      <td>Guangzhou</td>\n",
       "      <td>Baiyun</td>\n",
       "      <td>Sanyuanli</td>\n",
       "      <td>23.161410</td>\n",
       "      <td>113.251742</td>\n",
       "    </tr>\n",
       "    <tr>\n",
       "      <td>6</td>\n",
       "      <td>Guangzhou</td>\n",
       "      <td>Baiyun</td>\n",
       "      <td>Tonghe</td>\n",
       "      <td>23.199603</td>\n",
       "      <td>113.320919</td>\n",
       "    </tr>\n",
       "    <tr>\n",
       "      <td>7</td>\n",
       "      <td>Guangzhou</td>\n",
       "      <td>Baiyun</td>\n",
       "      <td>Jingxi</td>\n",
       "      <td>23.187745</td>\n",
       "      <td>113.320533</td>\n",
       "    </tr>\n",
       "    <tr>\n",
       "      <td>8</td>\n",
       "      <td>Guangzhou</td>\n",
       "      <td>Baiyun</td>\n",
       "      <td>Yongping</td>\n",
       "      <td>23.240796</td>\n",
       "      <td>113.284160</td>\n",
       "    </tr>\n",
       "    <tr>\n",
       "      <td>9</td>\n",
       "      <td>Guangzhou</td>\n",
       "      <td>Baiyun</td>\n",
       "      <td>Junhe</td>\n",
       "      <td>23.258613</td>\n",
       "      <td>113.285623</td>\n",
       "    </tr>\n",
       "  </tbody>\n",
       "</table>\n",
       "</div>"
      ],
      "text/plain": [
       "        City Borough Neighbourhood   Latitude   Longitude\n",
       "0  Guangzhou  Baiyun       Jingtai  23.171167  113.260877\n",
       "1  Guangzhou  Baiyun        Tongde  23.166263  113.229654\n",
       "2  Guangzhou  Baiyun      Huangshi  23.205192  113.260667\n",
       "3  Guangzhou  Baiyun      Tangjing  23.175695  113.248646\n",
       "4  Guangzhou  Baiyun        Xinshi  23.187983  113.255349\n",
       "5  Guangzhou  Baiyun     Sanyuanli  23.161410  113.251742\n",
       "6  Guangzhou  Baiyun        Tonghe  23.199603  113.320919\n",
       "7  Guangzhou  Baiyun        Jingxi  23.187745  113.320533\n",
       "8  Guangzhou  Baiyun      Yongping  23.240796  113.284160\n",
       "9  Guangzhou  Baiyun         Junhe  23.258613  113.285623"
      ]
     },
     "execution_count": 92,
     "metadata": {},
     "output_type": "execute_result"
    }
   ],
   "source": [
    "Guangzhou_data= pd.DataFrame(columns = ['City','Borough','Neighbourhood','Latitude','Longitude'])\n",
    "\n",
    "for i in range(Guangzhou_df.shape[0]):\n",
    "    borough = Guangzhou_df.loc[i,'Borough']\n",
    "    neighbourhood = Guangzhou_df.loc[i,'Neighbourhood']\n",
    "      \n",
    "    #find the location data, ignore the neighborhoods that are unable to be located by Nominatim\n",
    "    geolocator = Nominatim(user_agent=\"guangzhou-explorer\")\n",
    "    coordinate = geolocator.geocode(\"{},{},Guangzhou,China\".format(neighbourhood,borough))\n",
    "    \n",
    "    #try one more searching without borough\n",
    "    if coordinate is None: \n",
    "        coordinate = geolocator.geocode(\"{},Guangzhou,China\".format(neighbourhood))\n",
    "        \n",
    "    if coordinate is None: \n",
    "        print(\"The geospatial data of {} in {} is not available!\".format(neighbourhood,borough))\n",
    "    else:\n",
    "        Guangzhou_data = Guangzhou_data.append({'City': 'Guangzhou',\n",
    "                                                'Borough': borough,\n",
    "                                                'Neighbourhood': neighbourhood,\n",
    "                                                'Latitude': coordinate.latitude,\n",
    "                                                'Longitude': coordinate.longitude\n",
    "                                               }, ignore_index=True)\n",
    "\n",
    "Guangzhou_data.head(10)"
   ]
  },
  {
   "cell_type": "markdown",
   "metadata": {},
   "source": [
    "## 2. Explore and Cluster the neighbourhoods in Guangzhou"
   ]
  },
  {
   "cell_type": "code",
   "execution_count": null,
   "metadata": {},
   "outputs": [],
   "source": []
  }
 ],
 "metadata": {
  "kernelspec": {
   "display_name": "Python 3",
   "language": "python",
   "name": "python3"
  },
  "language_info": {
   "codemirror_mode": {
    "name": "ipython",
    "version": 3
   },
   "file_extension": ".py",
   "mimetype": "text/x-python",
   "name": "python",
   "nbconvert_exporter": "python",
   "pygments_lexer": "ipython3",
   "version": "3.7.4"
  }
 },
 "nbformat": 4,
 "nbformat_minor": 2
}
